{
 "cells": [
  {
   "cell_type": "code",
   "execution_count": 27,
   "id": "c563df7b-9e65-4781-ad78-e61ec5b35d1e",
   "metadata": {},
   "outputs": [],
   "source": [
    "import torch\n",
    "import pandas as pd\n",
    "import numpy as np\n",
    "from sklearn.preprocessing import MinMaxScaler"
   ]
  },
  {
   "cell_type": "code",
   "execution_count": 29,
   "id": "c6ef64bc-dfb3-4d8a-9d05-36b507bd55f8",
   "metadata": {},
   "outputs": [],
   "source": [
    "# Load preprocessed real dataset\n",
    "real_df = pd.read_csv(\"freedom_cleaned.csv\")\n",
    "features = ['A', 'B', 'C', 'D', 'E', 'F', 'G']\n",
    "label_col = 'FreedomStatus_encoded'"
   ]
  },
  {
   "cell_type": "code",
   "execution_count": 31,
   "id": "ea8c02a4-e594-4eaf-85a5-e0379ba63e17",
   "metadata": {},
   "outputs": [],
   "source": [
    "# Parameters\n",
    "latent_dim = 100\n",
    "num_classes = 3\n",
    "samples_per_class = 300"
   ]
  },
  {
   "cell_type": "code",
   "execution_count": 33,
   "id": "1d5e443c-866e-43f9-be6c-6803778e3e61",
   "metadata": {},
   "outputs": [
    {
     "data": {
      "text/plain": [
       "Generator(\n",
       "  (label_emb): Embedding(3, 3)\n",
       "  (model): Sequential(\n",
       "    (0): Linear(in_features=103, out_features=64, bias=True)\n",
       "    (1): ReLU()\n",
       "    (2): Linear(in_features=64, out_features=128, bias=True)\n",
       "    (3): ReLU()\n",
       "    (4): Linear(in_features=128, out_features=7, bias=True)\n",
       "    (5): Tanh()\n",
       "  )\n",
       ")"
      ]
     },
     "execution_count": 33,
     "metadata": {},
     "output_type": "execute_result"
    }
   ],
   "source": [
    "# Load trained Generator\n",
    "class Generator(torch.nn.Module):\n",
    "    def __init__(self):\n",
    "        super().__init__()\n",
    "        self.label_emb = torch.nn.Embedding(num_classes, num_classes)\n",
    "        self.model = torch.nn.Sequential(\n",
    "            torch.nn.Linear(latent_dim + num_classes, 64),\n",
    "            torch.nn.ReLU(),\n",
    "            torch.nn.Linear(64, 128),\n",
    "            torch.nn.ReLU(),\n",
    "            torch.nn.Linear(128, len(features)),\n",
    "            torch.nn.Tanh()\n",
    "        )\n",
    "\n",
    "    def forward(self, z, labels):\n",
    "        c = self.label_emb(labels)\n",
    "        x = torch.cat([z, c], dim=1)\n",
    "        return self.model(x)\n",
    "# Reinitialize generator\n",
    "generator = Generator()\n",
    "generator.load_state_dict(torch.load(\"generator.pth\", map_location=torch.device('cpu')))\n",
    "generator.eval()"
   ]
  },
  {
   "cell_type": "code",
   "execution_count": 35,
   "id": "f8beb63e-ae91-4dd1-aa7d-564def2363bc",
   "metadata": {},
   "outputs": [],
   "source": [
    "# Generate synthetic samples\n",
    "synthetic_data = []\n",
    "for class_label in range(num_classes):\n",
    "    z = torch.randn(samples_per_class, latent_dim)\n",
    "    labels = torch.full((samples_per_class,), class_label, dtype=torch.long)\n",
    "    with torch.no_grad():\n",
    "        gen_samples = generator(z, labels).numpy()\n",
    "    class_df = pd.DataFrame(gen_samples, columns=features)\n",
    "    class_df[label_col] = class_label\n",
    "    synthetic_data.append(class_df)"
   ]
  },
  {
   "cell_type": "code",
   "execution_count": 37,
   "id": "298ab0ef-b330-46f6-8d79-97a4a9eb80df",
   "metadata": {},
   "outputs": [],
   "source": [
    "# Combine synthetic data\n",
    "synthetic_df = pd.concat(synthetic_data, ignore_index=True)\n",
    "\n",
    "# Combine with real data\n",
    "audf = pd.concat([real_df[features + [label_col]], synthetic_df], ignore_index=True)"
   ]
  },
  {
   "cell_type": "code",
   "execution_count": 39,
   "id": "5a255ff4-9635-4c60-9aae-6ceba9fd8142",
   "metadata": {},
   "outputs": [
    {
     "name": "stdout",
     "output_type": "stream",
     "text": [
      "Augmented dataset saved as freedom_augmented.csv\n"
     ]
    }
   ],
   "source": [
    "# Save the augmented dataset\n",
    "augmented_path = \"freedom_augmented.csv\"\n",
    "audf.to_csv(augmented_path, index=False)\n",
    "\n",
    "print(\"Augmented dataset saved as\", augmented_path)"
   ]
  },
  {
   "cell_type": "code",
   "execution_count": null,
   "id": "846a53a3-5897-4f63-99df-f8aeb3eeede5",
   "metadata": {},
   "outputs": [],
   "source": []
  }
 ],
 "metadata": {
  "kernelspec": {
   "display_name": "Python 3 (ipykernel)",
   "language": "python",
   "name": "python3"
  },
  "language_info": {
   "codemirror_mode": {
    "name": "ipython",
    "version": 3
   },
   "file_extension": ".py",
   "mimetype": "text/x-python",
   "name": "python",
   "nbconvert_exporter": "python",
   "pygments_lexer": "ipython3",
   "version": "3.12.7"
  }
 },
 "nbformat": 4,
 "nbformat_minor": 5
}
